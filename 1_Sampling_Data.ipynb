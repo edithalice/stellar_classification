{
 "cells": [
  {
   "cell_type": "markdown",
   "metadata": {},
   "source": [
    "# Part 1: Sampling Data\n",
    "---"
   ]
  },
  {
   "cell_type": "markdown",
   "metadata": {},
   "source": [
    "## Accessing Data\n",
    "At this stage I now had my data stored in 'MyDB' on CasJobs. Fortuitously, CasJobs is actually only one part of a platform called [SciServer](https://apps.sciserver.org), which has apps for database access, cloud computing with both interactive notebooks and asynchronous running of either a script or a notebook, and integrated access to an online file hosting service called [SciDrive](https://www.scidrive.org). SciServer actually has a package to access all of these apps from either a notebook on their server, or anywhere else ([API](http://www.sciserver.org/docs/sciscript-python/)). \n",
    "\n",
    "As a disclaimer, none of the functions written with these modules will work if run unless altered, as they all require the user to be logged in, and they are all written with assumptions about my setup (i.e. database, table names, locations, etc). *(Well actually they would still work if I hadn't removed my username and password from the respective login functions, but I'm sure you can understand why I did so.)*"
   ]
  },
  {
   "cell_type": "code",
   "execution_count": null,
   "metadata": {},
   "outputs": [],
   "source": [
    "from SciServer import CasJobs, SkyQuery, SciDrive\n",
    "from imblearn.under_sampling import RandomUnderSampler\n",
    "import pandas as pd\n",
    "import sample_process as sp"
   ]
  },
  {
   "cell_type": "markdown",
   "metadata": {},
   "source": [
    "Defining some base variables for accessing tables. *(Note: SkyQuery is another database access app. Although it can also run SQL queries, it seems to be more set up for viewing and accessing data tables than querying.)*"
   ]
  },
  {
   "cell_type": "code",
   "execution_count": null,
   "metadata": {},
   "outputs": [],
   "source": [
    "#for SkyQuery:\n",
    "table_source = 'webuser.AllStars'\n",
    "database = 'MyDB'\n",
    "#for CasJobs:\n",
    "table = 'AllStars'\n",
    "index_query = f'''SELECT specobjid\n",
    "                FROM {database}.{table}\n",
    "                '''\n",
    "row_indices = list(CasJobs.executeQuery(sql=index_query, context=database)['specobjid'])\n",
    "rows = len(row_indices)"
   ]
  },
  {
   "cell_type": "markdown",
   "metadata": {},
   "source": [
    "I wanted to subsample my data columns in a variety of ways to test out various features combinations for modelling. "
   ]
  },
  {
   "cell_type": "code",
   "execution_count": null,
   "metadata": {},
   "outputs": [],
   "source": [
    "paths = {'SomeStars':[], 'SomeStars_no_err':['err'], 'SomeStars_no_side':['side'],\n",
    "         'SomeStars_no_cont': ['cont'], 'SomeStars_just_cont':['err', 'side'],\n",
    "         'SomeStars_just_side':['err', 'cont']}"
   ]
  },
  {
   "cell_type": "markdown",
   "metadata": {},
   "source": [
    "sp.subsample() and sp.make_column_string are both functions from the sample_process module I wrote.  \n",
    "- subsample(rows, percent, seed=42) returns SQL query pieces to pull a random subset of rows from the database table, using ORDER BY RAND(seed).  \n",
    "- make_column_string(table_source, dataset, \\*args) returns a string with all column names to grab with SQL query, comma separated. Optional args can contain one or more of 'err', 'side', 'cont', or 'mask'. Including any as an argument will drop the corresponding column for each line index.\n",
    "This cell creates a query to pull a random 5% of the dataset for each path in the above dict, without the given columns.  \n",
    "\n",
    "I started with only 5% of the dataset because my full dataset contains over 500,000 rows."
   ]
  },
  {
   "cell_type": "code",
   "execution_count": null,
   "metadata": {},
   "outputs": [],
   "source": [
    "queries = {}\n",
    "for path, cols in paths.items():\n",
    "    s = sp.subsample(rows, 0.05)\n",
    "    queries[path] = f'''SELECT {s[0]} {sp.make_sql_column_string(table_source, dataset, *cols)}\n",
    "    FROM {database}.{table}\n",
    "    {s[1]}'''"
   ]
  },
  {
   "cell_type": "markdown",
   "metadata": {},
   "source": [
    "This cell executes each of the above queries and uploads the result into a csv file in a SciDrive folder."
   ]
  },
  {
   "cell_type": "code",
   "execution_count": null,
   "metadata": {},
   "outputs": [],
   "source": [
    "for path, query in queries.items():\n",
    "    try: \n",
    "        df = CasJobs.executeQuery(sql=query, context=context)\n",
    "        SciDrive.upload(path=f'metis_project_3/{path}.csv', data = df.to_csv())\n",
    "    except:\n",
    "        sp.login()\n",
    "        df = CasJobs.executeQuery(sql=query, context=context)\n",
    "        SciDrive.upload(path=f'metis_project_3/{path}.csv', data = df.to_csv())"
   ]
  }
 ],
 "metadata": {
  "kernelspec": {
   "display_name": "Python 3",
   "language": "python",
   "name": "python3"
  },
  "language_info": {
   "codemirror_mode": {
    "name": "ipython",
    "version": 3
   },
   "file_extension": ".py",
   "mimetype": "text/x-python",
   "name": "python",
   "nbconvert_exporter": "python",
   "pygments_lexer": "ipython3",
   "version": "3.7.6"
  }
 },
 "nbformat": 4,
 "nbformat_minor": 4
}
