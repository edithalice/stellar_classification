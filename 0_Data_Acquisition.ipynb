{
 "cells": [
  {
   "cell_type": "markdown",
   "metadata": {},
   "source": [
    "# Part 0: Data Acquisition\n",
    "---"
   ]
  },
  {
   "cell_type": "markdown",
   "metadata": {},
   "source": [
    "## Data Source\n",
    "The data I used in this project was from Data Release 16 of the [Sloan Digital Sky Survey](https://www.sdss.org), accessed through the [CasJobs](https://skyserver.sdss.org/casjobs/) SQL interface. "
   ]
  },
  {
   "cell_type": "markdown",
   "metadata": {},
   "source": [
    "## Data Structure\n",
    "The data I needed to acquire for this project came from two tables in DR16: [specObj](http://skyserver.sdss.org/dr16/en/help/browser/browser.aspx#&&history=description+SpecObj+V), which contains a variety of spectrographic data about stars, amongst which is the subclass column which I used as my target, and [sppLines](http://skyserver.sdss.org/dr16/en/help/browser/browser.aspx#&&history=description+sppLines+U), which contains the line index values that I used as the features of my models.  \n",
    "These line index columns contain the following pieces of information for around 70 different element indices (indices are each a specific wavelength absorbed or emitted by an element):\n",
    "- side: an approximation of the light intensity at that wavelength using a local fit\n",
    "- cont: an approximation of the light intensity at that wavelength derived from a global 7th degree polynomial fit.\n",
    "- err: line index error for that particular line band\n",
    "- mask: a binary pixel quality indicator (0=good, 1=bad)\n",
    "For more details about the approximations, see [here](https://www.sdss.org/dr16/spectro/sspp_lineindexmeas/)."
   ]
  },
  {
   "cell_type": "markdown",
   "metadata": {},
   "source": [
    "## Querying Data\n",
    "CasJobs provides every user 500MB storage for tables returned by database queries, and more can be accessed by submitting a request (which I ended up needing to do, as the final form of my table end up being ~650MB). Therefore acquiring data for my use was as simple as submitting a query and naming the results. The query I ran to access my data is below.  \n",
    "Columns are specified as above, where class='star' pulls only data for objects tagged as stars, and where (zWarning & 1) = 0 checks the [zWarning bitmask](https://www.sdss.org/dr16/algorithms/bitmasks/#ZWARNING) flag to make sure the 'SKY' warning is not set. "
   ]
  },
  {
   "cell_type": "raw",
   "metadata": {},
   "source": [
    "SELECT sl.SPECOBJID, sp.SUBCLASS, \n",
    "  H83side, H83cont, H83err, H83mask, \n",
    "  H812side, H812cont, H812err, H812mask,\n",
    "  H824side, H824cont, H824err, H824mask,\n",
    "  H848side, H848cont, H848err, H848mask,\n",
    "  KP12side, KP12cont, KP12err, KP12mask,\n",
    "  KP18side, KP18cont, KP18err, KP18mask,\n",
    "  KP6side, KP6cont, KP6err, KP6mask, \n",
    "  CaIIKside, CaIIKcont, CaIIKerr, CaIIKmask,\n",
    "  CaIIHKside, CaIIHKcont, CaIIHKerr, CaIIHKmask,\n",
    "  Hepsside, Hepscont, Hepserr, Hepsmask,\n",
    "  KP16side, KP16cont, KP16err, KP16mask,\n",
    "  SrII1side, SrII1cont, SrII1err, SrII1mask,\n",
    "  HeI121side, HeI121cont, HeI121err, HeI121mask,\n",
    "  Hdelta12side, Hdelta12cont, Hdelta12err, Hdelta12mask,\n",
    "  Hdelta24side, Hdelta24cont, Hdelta24err, Hdelta24mask,\n",
    "  Hdelta48side, Hdelta48cont, Hdelta48err, Hdelta48mask,\n",
    "  Hdeltaside, Hdeltacont, Hdeltaerr, Hdeltamask,\n",
    "  CaI4side, CaI4cont, CaI4err, CaI4mask,\n",
    "  CaI12side, CaI12cont, CaI12err, CaI12mask,\n",
    "  CaI24side, CaI24cont, CaI24err, CaI24mask,\n",
    "  CaI6side, CaI6cont, CaI6err, CaI6mask,\n",
    "  Gside, Gcont, Gerr, Gmask,\n",
    "  Hgamma12side, Hgamma12cont, Hgamma12err, Hgamma12mask,\n",
    "  Hgamma24side, Hgamma24cont, Hgamma24err, Hgamma24mask,\n",
    "  Hgamma48side, Hgamma48cont, Hgamma48err, Hgamma48mask,\n",
    "  Hgammaside, Hgammacont, Hgammaerr, Hgammamask,\n",
    "  HeI122side, HeI122cont, HeI122err, HeI122mask,\n",
    "  Gblueside, Gbluecont, Gblueerr, Gbluemask,\n",
    "  Gwholeside, Gwholecont, Gwholeerr, Gwholemask,\n",
    "  Baside, Bacont, Baerr, Bamask,\n",
    "  C12C13side, C12C13cont, C12C13err, C12C13mask,\n",
    "  CC12side, CC12cont, CC12err, CC12mask,\n",
    "  metal1side, metal1cont, metal1err, metal1mask,\n",
    "  Hbeta12side, Hbeta12cont, Hbeta12err, Hbeta12mask,\n",
    "  Hbeta24side, Hbeta24cont, Hbeta24err, Hbeta24mask,\n",
    "  Hbeta48side, Hbeta48cont, Hbeta48err, Hbeta48mask,\n",
    "  Hbetaside, Hbetacont, Hbetaerr, Hbetamask,\n",
    "  C2side, C2cont, C2err, C2mask,\n",
    "  C2MgIside, C2MgIcont, C2MgIerr, C2MgImask,\n",
    "  MgHMgIC2side, MgHMgIC2cont, MgHMgIC2err, MgHMgIC2mask,\n",
    "  MgHMgIside, MgHMgIcont, MgHMgIerr, MgHMgImask,\n",
    "  MgHside, MgHcont, MgHerr, MgHmask,\n",
    "  CrIside, CrIcont, CrIerr, CrImask,\n",
    "  MgIFeIIside, MgIFeIIcont, MgIFeIIerr, MgIFeIImask,\n",
    "  MgI2side, MgI2cont, MgI2err, MgI2mask,\n",
    "  MgI121side, MgI121cont, MgI121err, MgI121mask,\n",
    "  MgI24side, MgI24cont, MgI24err, MgI24mask,\n",
    "  MgI122side, MgI122cont, MgI122err, MgI122mask,\n",
    "  NaI20side, NaI20cont, NaI20err, NaI20mask,\n",
    "  Na12side, Na12cont, Na12err, Na12mask,\n",
    "  Na24side, Na24cont, Na24err, Na24mask,\n",
    "  Halpha12side, Halpha12cont, Halpha12err, Halpha12mask,\n",
    "  Halpha24side, Halpha24cont, Halpha24err, Halpha24mask,\n",
    "  Halpha48side, Halpha48cont, Halpha48err, Halpha48mask,\n",
    "  Halpha70side, Halpha70cont, Halpha70err, Halpha70mask,\n",
    "  CaHside, CaHcont, CaHerr, CaHmask,\n",
    "  TiOside, TiOcont, TiOerr, TiOmask,\n",
    "  CNside, CNcont, CNerr, CNmask,\n",
    "  OItripside, OItripcont, OItriperr, OItripmask,\n",
    "  KI34side, KI34cont, KI34err, KI34mask,\n",
    "  KI95side, KI95cont, KI95err, KI95mask,\n",
    "  NaI15side, NaI15cont, NaI15err, NaI15mask,\n",
    "  NaIredside, NaIredcont, NaIrederr, NaIredmask,\n",
    "  CaII26side, CaII26cont, CaII26err, CaII26mask,\n",
    "  Paschen13side, Paschen13cont, Paschen13err, Paschen13mask,\n",
    "  CaII29side, CaII29cont, CaII29err, CaII29mask,\n",
    "  CaII401side, CaII401cont, CaII401err, CaII401mask,\n",
    "  CaII161side, CaII161cont, CaII161err, CaII161mask,\n",
    "  Paschen421side, Paschen421cont, Paschen421err, Paschen421mask,\n",
    "  CaII162side, CaII162cont, CaII162err, CaII162mask,\n",
    "  CaII402side, CaII402cont, CaII402err, CaII402mask,\n",
    "  Paschen422side, Paschen422cont, Paschen422err, Paschen422mask,\n",
    "  TiO5side, TiO5cont, TiO5err, TiO5mask,\n",
    "  TiO8side, TiO8cont, TiO8err, TiO8mask,\n",
    "  CaH1side, CaH1cont, CaH1err, CaH1mask,\n",
    "  CaH2side, CaH2cont, CaH2err, CaH2mask,\n",
    "  CaH3side, CaH3cont, CaH3err, CaH3mask,\n",
    "  UVCNside, UVCNcont, UVCNerr, UVCNmask,\n",
    "  BLCNside, BLCNcont, BLCNerr, BLCNmask,\n",
    "  FEI1side, FEI1cont, FEI1err, FEI1mask,\n",
    "  FEI2side, FEI2cont, FEI2err, FEI2mask,\n",
    "  FEI3side, FEI3cont, FEI3err, FEI3mask,\n",
    "  SRII2side, SRII2cont, SRII2err, SRII2mask,\n",
    "  FEI4side, FEI4cont, FEI4err, FEI4mask,\n",
    "  FEI5side, FEI5cont, FEI5err, FEI5mask into MyDB.AllStars from sppLINES as sl\n",
    "    \n",
    "  JOIN specObj AS sp ON sl.specobjid = sp.specobjid\n",
    "  \n",
    "  WHERE CLASS = 'STAR' and (zWarning & 1) = 0"
   ]
  }
 ],
 "metadata": {
  "kernelspec": {
   "display_name": "Python 3",
   "language": "python",
   "name": "python3"
  },
  "language_info": {
   "codemirror_mode": {
    "name": "ipython",
    "version": 3
   },
   "file_extension": ".py",
   "mimetype": "text/x-python",
   "name": "python",
   "nbconvert_exporter": "python",
   "pygments_lexer": "ipython3",
   "version": "3.7.6"
  }
 },
 "nbformat": 4,
 "nbformat_minor": 4
}
